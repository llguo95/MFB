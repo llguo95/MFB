{
 "cells": [
  {
   "cell_type": "markdown",
   "id": "ef3fc3c5-6a44-48b2-923d-61ee36cef912",
   "metadata": {
    "slideshow": {
     "slide_type": "slide"
    },
    "tags": []
   },
   "source": [
    "# 1. Introduction\n",
    "\n",
    "This set of scripts was written to facilitate multi-output or multi-fidelity regression and Bayesian optimization with Gaussian processes. It is built from elements of the `GPy`, `emukit` and `gpytorch/botorch` packages.\n",
    "The core structure is as follows:\n",
    "\n",
    "- `cokgj.py` contains a wrapper class that injects the cokg-j implementation of `emukit` into the `botorch` framework.\n",
    "- `main.py` contains functions to run the regression and optimization experiments. Read `readme.txt` for more information about the in- and outputs of these functions. It relies heavily on `pipeline.py`.\n",
    "- `MFproblem.py` contains the class for initializing 2-fidelity problem objects. This class has methods which can: \n",
    "    - generate DoE input data (both low and high fidelity) for the problem.\n",
    "    - initialize the appropriate GP model given `model_type`.\n",
    "    - initialize the appropriate acquisition function depending on fidelity type.\n",
    "    - optimize the acquisition function.\n",
    "- `objective_formatter.py`contains two classes:\n",
    "    - `botorch_TestFunction`, a wrapper class that injects a `pybench` `function` into the shape of a `botorch` `SyntheticTestFunction`.\n",
    "    - `AugmentedTestFunction`, a class that facilitates the augmentation of a `SyntheticTestFunction` object with a `LF` parameter, effectively creating a multi-fidelity objective out of a single-fidelity objective.\n",
    "- `pipeline.py` contains functions which, as a whole, construct and process the DoE data and return the relevant predictive means and variances. They are subdivided into `pretrainer`, `trainer` and `posttrainer` parts."
   ]
  },
  {
   "cell_type": "code",
   "execution_count": 2,
   "id": "8b12fb77-0fa7-41d1-a94c-935dd3ea2c35",
   "metadata": {},
   "outputs": [],
   "source": [
    "import sys\n",
    "\n",
    "sys.path.insert(0, '../Python_Benchmark_Test_Optimization_Function_Single_Objective')\n",
    "import pybenchfunction\n",
    "\n",
    "sys.path.insert(0, '../GPy')\n",
    "import GPy\n",
    "\n",
    "sys.path.insert(0, '../MFB')\n",
    "from main import reg_main"
   ]
  }
 ],
 "metadata": {
  "kernelspec": {
   "display_name": "Python 3 (ipykernel)",
   "language": "python",
   "name": "python3"
  },
  "language_info": {
   "codemirror_mode": {
    "name": "ipython",
    "version": 3
   },
   "file_extension": ".py",
   "mimetype": "text/x-python",
   "name": "python",
   "nbconvert_exporter": "python",
   "pygments_lexer": "ipython3",
   "version": "3.7.11"
  }
 },
 "nbformat": 4,
 "nbformat_minor": 5
}
